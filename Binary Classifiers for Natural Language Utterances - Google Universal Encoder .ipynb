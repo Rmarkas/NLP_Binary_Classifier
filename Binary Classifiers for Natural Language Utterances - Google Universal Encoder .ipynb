{
 "cells": [
  {
   "cell_type": "markdown",
   "metadata": {},
   "source": [
    "\n",
    "### End-to-end pipeline for classifying AI assitant inputs between music and directions domains\n",
    "\n",
    "#### Written by Ruhaab Markas \n",
    "\n",
    "Example Playing Music:\n",
    "\"Play some Pantera on Spotify\"\n",
    "\n",
    "Example Directions:\n",
    "\"Where is the nearest Starbucks\""
   ]
  },
  {
   "cell_type": "code",
   "execution_count": 60,
   "metadata": {},
   "outputs": [],
   "source": [
    "\n",
    "data1 = [\n",
    "    \"Play some music\",\n",
    "    \"Play music\",\n",
    "    \"Play some music\",\n",
    "    \"Play music\",\n",
    "    \"Play my music\",\n",
    "    \"Play me some music\",\n",
    "    \"Please play some music\",\n",
    "    \"Play the music\", \n",
    "    \"Play my music\",\n",
    "    \"Play some music\",\n",
    "    \"Play music\",\n",
    "    \"Play my music\",\n",
    "    \"Get me directions home\",\n",
    "    \"Take my home\", \n",
    "    \"How do I get home?\",\n",
    "    \"What is the way home?\",\n",
    "    \"Please take me home?\",\n",
    "    \"How do I get home?\",\n",
    "    \"What are the directons to my house?\", \n",
    "    \"Where is my house?\", \n",
    "    \"Take me to my house?\",\n",
    "    \"Directions home\",\n",
    "    \"Play Incubus\",\n",
    "    \"Play Taylor Swift\",\n",
    "    \"Play some Incubus\",\n",
    "    \"Play some Taylor Swift\",\n",
    "    \"Play Michael Jackson\",\n",
    "    \"Play some Michael Jackson\",\n",
    "    \"Play rock and roll\",\n",
    "    \"Play some Incubus\",\n",
    "    \"Play Alan Jackson\",\n",
    "    \"Play some Alan Jackson\", \n",
    "    \"Play some music\",\n",
    "    \"Play music\",\n",
    "    \"Play my music\",\n",
    "    \"Play me some music\",\n",
    "    \"Please play some music\",\n",
    "    \"Play the music\", \n",
    "    \"Play my music\",\n",
    "    \"Play some music\",\n",
    "    \"Play music\",\n",
    "    \"Play my music\",\n",
    "    \"Get me directions home\",\n",
    "    \"Take my home\", \n",
    "    \"How do I get home?\",\n",
    "    \"What is the way home?\",\n",
    "    \"Please take me home?\",\n",
    "    \"How do I get home?\",\n",
    "    \"What are the directons to my house?\", \n",
    "    \"Where is my house?\", \n",
    "    \"Take me to my house?\",\n",
    "    \"Directions home\",\n",
    "    \"Play rock and roll\",\n",
    "    \"Play fun music\", \n",
    "    \"Play my chill playlist\", \n",
    "    \"Play my jazz album\",\n",
    "    \"Play some tunes\",\n",
    "    \"Play upbeat music\", \n",
    "    \"Play relaxing music\",\n",
    "    \"Play party songs\",\n",
    "    \"Play some hip hop\",\n",
    "    \"Take me to the mall\",\n",
    "    \"What are the directions to the mall?\",\n",
    "    \"Show me directions home\",\n",
    "    \"Get me directions to the gas station\",\n",
    "    \"How do I get home?\",\n",
    "    \"What are the directons to my house?\", \n",
    "    \"Show directions home\",\n",
    "    \"How do I get home?\",\n",
    "    \"Give me directions home\",\n",
    "    \"Directions home\",\n",
    "    \"Play Incubus\",\n",
    "    \"Play Taylor Swift\",\n",
    "    \"Play some Incubus\",\n",
    "    \"Play some Taylor Swift\",\n",
    "    \"Play Michael Jackson\", \n",
    "    \"Play some Michael Jackson\",\n",
    "    \"Play rock and roll\",\n",
    "    \"Play some Incubus\",\n",
    "    \"Play Alan Jackson\",\n",
    "    \"Play some Alan Jackson\", \n",
    "    \"Take me to the mall\",\n",
    "    \"What are the directions to the mall?\",\n",
    "    \"Show me directions home\",\n",
    "    \"Get me directions to the gas station\",\n",
    "    \"How do I get home?\",\n",
    "    \"What are the directons to my house?\", \n",
    "    \"Show directions home\",\n",
    "     \"How do I get home?\",\n",
    "    \"Give me directions home\",\n",
    "    \"Get me directions home\",\n",
    "    \"Take my home\", \n",
    "   \"How do I get home?\",\n",
    "   \"What is the way home?\",\n",
    "    \"Please take me home?\",\n",
    "    \"How do I get home?\",\n",
    "    \"What are the directons to my house?\", \n",
    "   \"Where is my house?\", \n",
    "    \"Take me to my house?\",\n",
    "    \"Directions home\",\n",
    "    \"Directions home\",\n",
    "]"
   ]
  },
  {
   "cell_type": "code",
   "execution_count": 61,
   "metadata": {},
   "outputs": [
    {
     "data": {
      "text/plain": [
       "list"
      ]
     },
     "execution_count": 61,
     "metadata": {},
     "output_type": "execute_result"
    }
   ],
   "source": [
    "#  check the data type to ensure it's a list\n",
    "type(data1)"
   ]
  },
  {
   "cell_type": "code",
   "execution_count": 24,
   "metadata": {},
   "outputs": [],
   "source": [
    "# Import data manipulation packages \n",
    "import pandas as pd\n",
    "import numpy as np"
   ]
  },
  {
   "cell_type": "code",
   "execution_count": 82,
   "metadata": {},
   "outputs": [
    {
     "data": {
      "text/html": [
       "<div>\n",
       "<style scoped>\n",
       "    .dataframe tbody tr th:only-of-type {\n",
       "        vertical-align: middle;\n",
       "    }\n",
       "\n",
       "    .dataframe tbody tr th {\n",
       "        vertical-align: top;\n",
       "    }\n",
       "\n",
       "    .dataframe thead th {\n",
       "        text-align: right;\n",
       "    }\n",
       "</style>\n",
       "<table border=\"1\" class=\"dataframe\">\n",
       "  <thead>\n",
       "    <tr style=\"text-align: right;\">\n",
       "      <th></th>\n",
       "      <th>Utterance</th>\n",
       "      <th>Class</th>\n",
       "      <th>Label</th>\n",
       "    </tr>\n",
       "  </thead>\n",
       "  <tbody>\n",
       "    <tr>\n",
       "      <th>0</th>\n",
       "      <td>Play some music</td>\n",
       "      <td>1</td>\n",
       "      <td>Music</td>\n",
       "    </tr>\n",
       "    <tr>\n",
       "      <th>1</th>\n",
       "      <td>Play music</td>\n",
       "      <td>1</td>\n",
       "      <td>Music</td>\n",
       "    </tr>\n",
       "    <tr>\n",
       "      <th>2</th>\n",
       "      <td>Play my music</td>\n",
       "      <td>1</td>\n",
       "      <td>Music</td>\n",
       "    </tr>\n",
       "    <tr>\n",
       "      <th>3</th>\n",
       "      <td>Play me some music</td>\n",
       "      <td>1</td>\n",
       "      <td>Music</td>\n",
       "    </tr>\n",
       "    <tr>\n",
       "      <th>4</th>\n",
       "      <td>Please play some music</td>\n",
       "      <td>1</td>\n",
       "      <td>Music</td>\n",
       "    </tr>\n",
       "  </tbody>\n",
       "</table>\n",
       "</div>"
      ],
      "text/plain": [
       "               Utterance   Class  Label\n",
       "0         Play some music      1  Music\n",
       "1              Play music      1  Music\n",
       "2           Play my music      1  Music\n",
       "3      Play me some music      1  Music\n",
       "4  Please play some music      1  Music"
      ]
     },
     "execution_count": 82,
     "metadata": {},
     "output_type": "execute_result"
    }
   ],
   "source": [
    "# Read my offline file so that I can assign classes and labels to each index\n",
    "qs = pd.read_excel('/Users/rmarkas/Desktop/Utterances.xls')\n",
    "qs.head()"
   ]
  },
  {
   "cell_type": "code",
   "execution_count": 47,
   "metadata": {},
   "outputs": [
    {
     "data": {
      "text/plain": [
       "(99, 2)"
      ]
     },
     "execution_count": 47,
     "metadata": {},
     "output_type": "execute_result"
    }
   ],
   "source": [
    "# Check the shape\n",
    "qs.shape"
   ]
  },
  {
   "cell_type": "code",
   "execution_count": 49,
   "metadata": {},
   "outputs": [
    {
     "data": {
      "text/plain": [
       "pandas.core.frame.DataFrame"
      ]
     },
     "execution_count": 49,
     "metadata": {},
     "output_type": "execute_result"
    }
   ],
   "source": [
    "# Confirm that this is a dataframe\n",
    "type(clean_questions)"
   ]
  },
  {
   "cell_type": "markdown",
   "metadata": {},
   "source": [
    "### Q1 Given the following module that outputs a vector which represents your input sentence, transform your data into numbers."
   ]
  },
  {
   "cell_type": "code",
   "execution_count": 62,
   "metadata": {},
   "outputs": [
    {
     "name": "stdout",
     "output_type": "stream",
     "text": [
      "tf.Tensor(\n",
      "[[-0.03827367  0.0152842   0.09111802 ... -0.02656745  0.02676196\n",
      "  -0.00693245]\n",
      " [-0.0243762   0.01918176  0.07996774 ... -0.05385037  0.02100432\n",
      "   0.03922744]\n",
      " [-0.03827367  0.0152842   0.09111802 ... -0.02656745  0.02676196\n",
      "  -0.00693245]\n",
      " ...\n",
      " [-0.00308145 -0.05708995  0.00261058 ... -0.00146268  0.07268234\n",
      "  -0.02701968]\n",
      " [-0.02406933  0.01228792  0.00061122 ... -0.01537671  0.06456828\n",
      "  -0.00335655]\n",
      " [-0.02406933  0.01228792  0.00061122 ... -0.01537671  0.06456828\n",
      "  -0.00335655]], shape=(101, 512), dtype=float32)\n"
     ]
    }
   ],
   "source": [
    "# Import machine learning packages\n",
    "import tensorflow as tf\n",
    "import tensorflow_hub as hub\n",
    "\n",
    "# Use hub to load universal encoder and run embeddings\n",
    "embed = hub.load(\"https://tfhub.dev/google/universal-sentence-encoder/3\")\n",
    "embeddings = embed(data1)[\"outputs\"]\n",
    "\n",
    "print(embeddings)"
   ]
  },
  {
   "cell_type": "code",
   "execution_count": 63,
   "metadata": {},
   "outputs": [
    {
     "data": {
      "text/plain": [
       "TensorShape([101, 512])"
      ]
     },
     "execution_count": 63,
     "metadata": {},
     "output_type": "execute_result"
    }
   ],
   "source": [
    "# What is the shape of the embeddings matrix?\n",
    "embeddings.shape"
   ]
  },
  {
   "cell_type": "code",
   "execution_count": 64,
   "metadata": {},
   "outputs": [
    {
     "data": {
      "text/plain": [
       "tensorflow.python.framework.ops.EagerTensor"
      ]
     },
     "execution_count": 64,
     "metadata": {},
     "output_type": "execute_result"
    }
   ],
   "source": [
    "type(embeddings)"
   ]
  },
  {
   "cell_type": "code",
   "execution_count": 74,
   "metadata": {},
   "outputs": [],
   "source": [
    "# Process to convert embeddigns matrix into a pandas dataframe\n",
    "# Step 1 create an aray\n",
    "embed_array = np.array(embed_array)"
   ]
  },
  {
   "cell_type": "code",
   "execution_count": 86,
   "metadata": {},
   "outputs": [
    {
     "data": {
      "text/html": [
       "<div>\n",
       "<style scoped>\n",
       "    .dataframe tbody tr th:only-of-type {\n",
       "        vertical-align: middle;\n",
       "    }\n",
       "\n",
       "    .dataframe tbody tr th {\n",
       "        vertical-align: top;\n",
       "    }\n",
       "\n",
       "    .dataframe thead th {\n",
       "        text-align: right;\n",
       "    }\n",
       "</style>\n",
       "<table border=\"1\" class=\"dataframe\">\n",
       "  <thead>\n",
       "    <tr style=\"text-align: right;\">\n",
       "      <th></th>\n",
       "      <th>0</th>\n",
       "      <th>1</th>\n",
       "      <th>2</th>\n",
       "      <th>3</th>\n",
       "      <th>4</th>\n",
       "      <th>5</th>\n",
       "      <th>6</th>\n",
       "      <th>7</th>\n",
       "      <th>8</th>\n",
       "      <th>9</th>\n",
       "      <th>...</th>\n",
       "      <th>502</th>\n",
       "      <th>503</th>\n",
       "      <th>504</th>\n",
       "      <th>505</th>\n",
       "      <th>506</th>\n",
       "      <th>507</th>\n",
       "      <th>508</th>\n",
       "      <th>509</th>\n",
       "      <th>510</th>\n",
       "      <th>511</th>\n",
       "    </tr>\n",
       "  </thead>\n",
       "  <tbody>\n",
       "    <tr>\n",
       "      <th>0</th>\n",
       "      <td>-0.038274</td>\n",
       "      <td>0.015284</td>\n",
       "      <td>0.091118</td>\n",
       "      <td>0.007086</td>\n",
       "      <td>0.020357</td>\n",
       "      <td>0.019580</td>\n",
       "      <td>-0.018168</td>\n",
       "      <td>0.030250</td>\n",
       "      <td>0.034157</td>\n",
       "      <td>0.054213</td>\n",
       "      <td>...</td>\n",
       "      <td>0.039918</td>\n",
       "      <td>-0.080380</td>\n",
       "      <td>0.053053</td>\n",
       "      <td>0.021043</td>\n",
       "      <td>-0.017571</td>\n",
       "      <td>0.032146</td>\n",
       "      <td>0.037611</td>\n",
       "      <td>-0.026567</td>\n",
       "      <td>0.026762</td>\n",
       "      <td>-0.006932</td>\n",
       "    </tr>\n",
       "    <tr>\n",
       "      <th>1</th>\n",
       "      <td>-0.024376</td>\n",
       "      <td>0.019182</td>\n",
       "      <td>0.079968</td>\n",
       "      <td>0.048837</td>\n",
       "      <td>-0.071362</td>\n",
       "      <td>0.033691</td>\n",
       "      <td>-0.052863</td>\n",
       "      <td>-0.002503</td>\n",
       "      <td>0.052732</td>\n",
       "      <td>0.009590</td>\n",
       "      <td>...</td>\n",
       "      <td>0.038410</td>\n",
       "      <td>-0.079658</td>\n",
       "      <td>0.062860</td>\n",
       "      <td>0.052881</td>\n",
       "      <td>-0.000144</td>\n",
       "      <td>0.050155</td>\n",
       "      <td>-0.000216</td>\n",
       "      <td>-0.053850</td>\n",
       "      <td>0.021004</td>\n",
       "      <td>0.039227</td>\n",
       "    </tr>\n",
       "    <tr>\n",
       "      <th>2</th>\n",
       "      <td>-0.038274</td>\n",
       "      <td>0.015284</td>\n",
       "      <td>0.091118</td>\n",
       "      <td>0.007086</td>\n",
       "      <td>0.020357</td>\n",
       "      <td>0.019580</td>\n",
       "      <td>-0.018168</td>\n",
       "      <td>0.030250</td>\n",
       "      <td>0.034157</td>\n",
       "      <td>0.054213</td>\n",
       "      <td>...</td>\n",
       "      <td>0.039918</td>\n",
       "      <td>-0.080380</td>\n",
       "      <td>0.053053</td>\n",
       "      <td>0.021043</td>\n",
       "      <td>-0.017571</td>\n",
       "      <td>0.032146</td>\n",
       "      <td>0.037611</td>\n",
       "      <td>-0.026567</td>\n",
       "      <td>0.026762</td>\n",
       "      <td>-0.006932</td>\n",
       "    </tr>\n",
       "    <tr>\n",
       "      <th>3</th>\n",
       "      <td>-0.024376</td>\n",
       "      <td>0.019182</td>\n",
       "      <td>0.079968</td>\n",
       "      <td>0.048837</td>\n",
       "      <td>-0.071362</td>\n",
       "      <td>0.033691</td>\n",
       "      <td>-0.052863</td>\n",
       "      <td>-0.002503</td>\n",
       "      <td>0.052732</td>\n",
       "      <td>0.009590</td>\n",
       "      <td>...</td>\n",
       "      <td>0.038410</td>\n",
       "      <td>-0.079658</td>\n",
       "      <td>0.062860</td>\n",
       "      <td>0.052881</td>\n",
       "      <td>-0.000144</td>\n",
       "      <td>0.050155</td>\n",
       "      <td>-0.000216</td>\n",
       "      <td>-0.053850</td>\n",
       "      <td>0.021004</td>\n",
       "      <td>0.039227</td>\n",
       "    </tr>\n",
       "    <tr>\n",
       "      <th>4</th>\n",
       "      <td>-0.007769</td>\n",
       "      <td>-0.022311</td>\n",
       "      <td>0.094439</td>\n",
       "      <td>-0.009006</td>\n",
       "      <td>-0.005161</td>\n",
       "      <td>0.060440</td>\n",
       "      <td>0.001238</td>\n",
       "      <td>-0.014119</td>\n",
       "      <td>-0.000499</td>\n",
       "      <td>0.032608</td>\n",
       "      <td>...</td>\n",
       "      <td>0.026762</td>\n",
       "      <td>-0.085583</td>\n",
       "      <td>0.062254</td>\n",
       "      <td>0.018541</td>\n",
       "      <td>-0.048938</td>\n",
       "      <td>0.051146</td>\n",
       "      <td>-0.011664</td>\n",
       "      <td>-0.025159</td>\n",
       "      <td>-0.020737</td>\n",
       "      <td>0.016050</td>\n",
       "    </tr>\n",
       "  </tbody>\n",
       "</table>\n",
       "<p>5 rows × 512 columns</p>\n",
       "</div>"
      ],
      "text/plain": [
       "        0         1         2         3         4         5         6    \\\n",
       "0 -0.038274  0.015284  0.091118  0.007086  0.020357  0.019580 -0.018168   \n",
       "1 -0.024376  0.019182  0.079968  0.048837 -0.071362  0.033691 -0.052863   \n",
       "2 -0.038274  0.015284  0.091118  0.007086  0.020357  0.019580 -0.018168   \n",
       "3 -0.024376  0.019182  0.079968  0.048837 -0.071362  0.033691 -0.052863   \n",
       "4 -0.007769 -0.022311  0.094439 -0.009006 -0.005161  0.060440  0.001238   \n",
       "\n",
       "        7         8         9      ...          502       503       504  \\\n",
       "0  0.030250  0.034157  0.054213    ...     0.039918 -0.080380  0.053053   \n",
       "1 -0.002503  0.052732  0.009590    ...     0.038410 -0.079658  0.062860   \n",
       "2  0.030250  0.034157  0.054213    ...     0.039918 -0.080380  0.053053   \n",
       "3 -0.002503  0.052732  0.009590    ...     0.038410 -0.079658  0.062860   \n",
       "4 -0.014119 -0.000499  0.032608    ...     0.026762 -0.085583  0.062254   \n",
       "\n",
       "        505       506       507       508       509       510       511  \n",
       "0  0.021043 -0.017571  0.032146  0.037611 -0.026567  0.026762 -0.006932  \n",
       "1  0.052881 -0.000144  0.050155 -0.000216 -0.053850  0.021004  0.039227  \n",
       "2  0.021043 -0.017571  0.032146  0.037611 -0.026567  0.026762 -0.006932  \n",
       "3  0.052881 -0.000144  0.050155 -0.000216 -0.053850  0.021004  0.039227  \n",
       "4  0.018541 -0.048938  0.051146 -0.011664 -0.025159 -0.020737  0.016050  \n",
       "\n",
       "[5 rows x 512 columns]"
      ]
     },
     "execution_count": 86,
     "metadata": {},
     "output_type": "execute_result"
    }
   ],
   "source": [
    "# Step 2 convert to dataframe \n",
    "final_data = pd.DataFrame(embed_array)\n",
    "final_data.head()"
   ]
  },
  {
   "cell_type": "code",
   "execution_count": 110,
   "metadata": {},
   "outputs": [
    {
     "data": {
      "text/plain": [
       "pandas.core.frame.DataFrame"
      ]
     },
     "execution_count": 110,
     "metadata": {},
     "output_type": "execute_result"
    }
   ],
   "source": [
    "# Confirm the final output is a dataframe\n",
    "type(final_data)"
   ]
  },
  {
   "cell_type": "code",
   "execution_count": 90,
   "metadata": {},
   "outputs": [
    {
     "data": {
      "text/html": [
       "<div>\n",
       "<style scoped>\n",
       "    .dataframe tbody tr th:only-of-type {\n",
       "        vertical-align: middle;\n",
       "    }\n",
       "\n",
       "    .dataframe tbody tr th {\n",
       "        vertical-align: top;\n",
       "    }\n",
       "\n",
       "    .dataframe thead th {\n",
       "        text-align: right;\n",
       "    }\n",
       "</style>\n",
       "<table border=\"1\" class=\"dataframe\">\n",
       "  <thead>\n",
       "    <tr style=\"text-align: right;\">\n",
       "      <th></th>\n",
       "      <th>0</th>\n",
       "      <th>1</th>\n",
       "      <th>2</th>\n",
       "      <th>3</th>\n",
       "      <th>4</th>\n",
       "      <th>5</th>\n",
       "      <th>6</th>\n",
       "      <th>7</th>\n",
       "      <th>8</th>\n",
       "      <th>9</th>\n",
       "      <th>...</th>\n",
       "      <th>503</th>\n",
       "      <th>504</th>\n",
       "      <th>505</th>\n",
       "      <th>506</th>\n",
       "      <th>507</th>\n",
       "      <th>508</th>\n",
       "      <th>509</th>\n",
       "      <th>510</th>\n",
       "      <th>511</th>\n",
       "      <th>Class</th>\n",
       "    </tr>\n",
       "  </thead>\n",
       "  <tbody>\n",
       "    <tr>\n",
       "      <th>0</th>\n",
       "      <td>-0.038274</td>\n",
       "      <td>0.015284</td>\n",
       "      <td>0.091118</td>\n",
       "      <td>0.007086</td>\n",
       "      <td>0.020357</td>\n",
       "      <td>0.019580</td>\n",
       "      <td>-0.018168</td>\n",
       "      <td>0.030250</td>\n",
       "      <td>0.034157</td>\n",
       "      <td>0.054213</td>\n",
       "      <td>...</td>\n",
       "      <td>-0.080380</td>\n",
       "      <td>0.053053</td>\n",
       "      <td>0.021043</td>\n",
       "      <td>-0.017571</td>\n",
       "      <td>0.032146</td>\n",
       "      <td>0.037611</td>\n",
       "      <td>-0.026567</td>\n",
       "      <td>0.026762</td>\n",
       "      <td>-0.006932</td>\n",
       "      <td>1.0</td>\n",
       "    </tr>\n",
       "    <tr>\n",
       "      <th>1</th>\n",
       "      <td>-0.024376</td>\n",
       "      <td>0.019182</td>\n",
       "      <td>0.079968</td>\n",
       "      <td>0.048837</td>\n",
       "      <td>-0.071362</td>\n",
       "      <td>0.033691</td>\n",
       "      <td>-0.052863</td>\n",
       "      <td>-0.002503</td>\n",
       "      <td>0.052732</td>\n",
       "      <td>0.009590</td>\n",
       "      <td>...</td>\n",
       "      <td>-0.079658</td>\n",
       "      <td>0.062860</td>\n",
       "      <td>0.052881</td>\n",
       "      <td>-0.000144</td>\n",
       "      <td>0.050155</td>\n",
       "      <td>-0.000216</td>\n",
       "      <td>-0.053850</td>\n",
       "      <td>0.021004</td>\n",
       "      <td>0.039227</td>\n",
       "      <td>1.0</td>\n",
       "    </tr>\n",
       "    <tr>\n",
       "      <th>2</th>\n",
       "      <td>-0.038274</td>\n",
       "      <td>0.015284</td>\n",
       "      <td>0.091118</td>\n",
       "      <td>0.007086</td>\n",
       "      <td>0.020357</td>\n",
       "      <td>0.019580</td>\n",
       "      <td>-0.018168</td>\n",
       "      <td>0.030250</td>\n",
       "      <td>0.034157</td>\n",
       "      <td>0.054213</td>\n",
       "      <td>...</td>\n",
       "      <td>-0.080380</td>\n",
       "      <td>0.053053</td>\n",
       "      <td>0.021043</td>\n",
       "      <td>-0.017571</td>\n",
       "      <td>0.032146</td>\n",
       "      <td>0.037611</td>\n",
       "      <td>-0.026567</td>\n",
       "      <td>0.026762</td>\n",
       "      <td>-0.006932</td>\n",
       "      <td>1.0</td>\n",
       "    </tr>\n",
       "    <tr>\n",
       "      <th>3</th>\n",
       "      <td>-0.024376</td>\n",
       "      <td>0.019182</td>\n",
       "      <td>0.079968</td>\n",
       "      <td>0.048837</td>\n",
       "      <td>-0.071362</td>\n",
       "      <td>0.033691</td>\n",
       "      <td>-0.052863</td>\n",
       "      <td>-0.002503</td>\n",
       "      <td>0.052732</td>\n",
       "      <td>0.009590</td>\n",
       "      <td>...</td>\n",
       "      <td>-0.079658</td>\n",
       "      <td>0.062860</td>\n",
       "      <td>0.052881</td>\n",
       "      <td>-0.000144</td>\n",
       "      <td>0.050155</td>\n",
       "      <td>-0.000216</td>\n",
       "      <td>-0.053850</td>\n",
       "      <td>0.021004</td>\n",
       "      <td>0.039227</td>\n",
       "      <td>1.0</td>\n",
       "    </tr>\n",
       "    <tr>\n",
       "      <th>4</th>\n",
       "      <td>-0.007769</td>\n",
       "      <td>-0.022311</td>\n",
       "      <td>0.094439</td>\n",
       "      <td>-0.009006</td>\n",
       "      <td>-0.005161</td>\n",
       "      <td>0.060440</td>\n",
       "      <td>0.001238</td>\n",
       "      <td>-0.014119</td>\n",
       "      <td>-0.000499</td>\n",
       "      <td>0.032608</td>\n",
       "      <td>...</td>\n",
       "      <td>-0.085583</td>\n",
       "      <td>0.062254</td>\n",
       "      <td>0.018541</td>\n",
       "      <td>-0.048938</td>\n",
       "      <td>0.051146</td>\n",
       "      <td>-0.011664</td>\n",
       "      <td>-0.025159</td>\n",
       "      <td>-0.020737</td>\n",
       "      <td>0.016050</td>\n",
       "      <td>1.0</td>\n",
       "    </tr>\n",
       "  </tbody>\n",
       "</table>\n",
       "<p>5 rows × 513 columns</p>\n",
       "</div>"
      ],
      "text/plain": [
       "          0         1         2         3         4         5         6  \\\n",
       "0 -0.038274  0.015284  0.091118  0.007086  0.020357  0.019580 -0.018168   \n",
       "1 -0.024376  0.019182  0.079968  0.048837 -0.071362  0.033691 -0.052863   \n",
       "2 -0.038274  0.015284  0.091118  0.007086  0.020357  0.019580 -0.018168   \n",
       "3 -0.024376  0.019182  0.079968  0.048837 -0.071362  0.033691 -0.052863   \n",
       "4 -0.007769 -0.022311  0.094439 -0.009006 -0.005161  0.060440  0.001238   \n",
       "\n",
       "          7         8         9  ...         503       504       505  \\\n",
       "0  0.030250  0.034157  0.054213  ...   -0.080380  0.053053  0.021043   \n",
       "1 -0.002503  0.052732  0.009590  ...   -0.079658  0.062860  0.052881   \n",
       "2  0.030250  0.034157  0.054213  ...   -0.080380  0.053053  0.021043   \n",
       "3 -0.002503  0.052732  0.009590  ...   -0.079658  0.062860  0.052881   \n",
       "4 -0.014119 -0.000499  0.032608  ...   -0.085583  0.062254  0.018541   \n",
       "\n",
       "        506       507       508       509       510       511  Class  \n",
       "0 -0.017571  0.032146  0.037611 -0.026567  0.026762 -0.006932    1.0  \n",
       "1 -0.000144  0.050155 -0.000216 -0.053850  0.021004  0.039227    1.0  \n",
       "2 -0.017571  0.032146  0.037611 -0.026567  0.026762 -0.006932    1.0  \n",
       "3 -0.000144  0.050155 -0.000216 -0.053850  0.021004  0.039227    1.0  \n",
       "4 -0.048938  0.051146 -0.011664 -0.025159 -0.020737  0.016050    1.0  \n",
       "\n",
       "[5 rows x 513 columns]"
      ]
     },
     "execution_count": 90,
     "metadata": {},
     "output_type": "execute_result"
    }
   ],
   "source": [
    "# Add in the class column to the dataframe and print to confirm \n",
    "final_data['Class']=qs.Class\n",
    "final_data.head()"
   ]
  },
  {
   "cell_type": "code",
   "execution_count": 134,
   "metadata": {},
   "outputs": [],
   "source": [
    "# I was getting some painful errors that I couldn't train my model with NaNs so I just deleted those indexes\n",
    "final_data_model = final_data.drop(final_data.index[99:101])"
   ]
  },
  {
   "cell_type": "markdown",
   "metadata": {},
   "source": [
    "### Q2: Take your numbers from Q1 and create 2 classifiers of any type.  What is your best guess for the accuracy of your models. (Don't forget to use good data science practices!)"
   ]
  },
  {
   "cell_type": "markdown",
   "metadata": {},
   "source": [
    "#### Set global variables"
   ]
  },
  {
   "cell_type": "code",
   "execution_count": 136,
   "metadata": {},
   "outputs": [],
   "source": [
    "# Set variables for X and y\n",
    "X = final_data_model.drop('Class', axis=1)\n",
    "y = final_data_model['Class']"
   ]
  },
  {
   "cell_type": "code",
   "execution_count": 178,
   "metadata": {},
   "outputs": [],
   "source": [
    "# Define train test splits \n",
    "from sklearn.model_selection import train_test_split\n",
    "X_train, X_test, y_train, y_test = train_test_split(X, y, test_size = 0.2)"
   ]
  },
  {
   "cell_type": "markdown",
   "metadata": {},
   "source": [
    "#### Experinent with SVM Classifier"
   ]
  },
  {
   "cell_type": "code",
   "execution_count": 179,
   "metadata": {},
   "outputs": [],
   "source": [
    "# Import SVM \n",
    "from sklearn.svm import SVC\n",
    "svc_classifier = SVC(kernel='linear')"
   ]
  },
  {
   "cell_type": "code",
   "execution_count": 189,
   "metadata": {},
   "outputs": [
    {
     "data": {
      "text/plain": [
       "SVC(C=1.0, cache_size=200, class_weight=None, coef0=0.0,\n",
       "  decision_function_shape='ovr', degree=3, gamma='auto', kernel='linear',\n",
       "  max_iter=-1, probability=False, random_state=None, shrinking=True,\n",
       "  tol=0.001, verbose=False)"
      ]
     },
     "execution_count": 189,
     "metadata": {},
     "output_type": "execute_result"
    }
   ],
   "source": [
    "# Fit the SVM model\n",
    "svc_classifier.fit(X_train, y_train)"
   ]
  },
  {
   "cell_type": "code",
   "execution_count": 181,
   "metadata": {},
   "outputs": [],
   "source": [
    "# Run the predictions for the SVM\n",
    "y_pred_svc = svc_classifier.predict(X_test)"
   ]
  },
  {
   "cell_type": "code",
   "execution_count": 190,
   "metadata": {},
   "outputs": [],
   "source": [
    "# Import model evaluation packages\n",
    "from sklearn import metrics\n",
    "from sklearn.metrics import classification_report, confusion_matrix"
   ]
  },
  {
   "cell_type": "code",
   "execution_count": 191,
   "metadata": {},
   "outputs": [
    {
     "name": "stdout",
     "output_type": "stream",
     "text": [
      "The accuracy of the SVM model is: 0.9\n",
      "[[11  2]\n",
      " [ 0  7]]\n",
      "             precision    recall  f1-score   support\n",
      "\n",
      "        1.0       1.00      0.85      0.92        13\n",
      "        2.0       0.78      1.00      0.88         7\n",
      "\n",
      "avg / total       0.92      0.90      0.90        20\n",
      "\n"
     ]
    }
   ],
   "source": [
    "# Print results for the SVM\n",
    "print(\"The accuracy of the SVM model is:\",metrics.accuracy_score(y_test, y_pred_svc))\n",
    "print(confusion_matrix(y_test,y_pred_svc))\n",
    "print(classification_report(y_test,y_pred_svc))"
   ]
  },
  {
   "cell_type": "markdown",
   "metadata": {},
   "source": [
    "#### Experiment with Random Forest Classifier"
   ]
  },
  {
   "cell_type": "code",
   "execution_count": 184,
   "metadata": {},
   "outputs": [],
   "source": [
    "# Import the random forest model\n",
    "from sklearn.ensemble import RandomForestClassifier"
   ]
  },
  {
   "cell_type": "code",
   "execution_count": 185,
   "metadata": {},
   "outputs": [],
   "source": [
    "random_forest_classifier = RandomForestClassifier(n_estimators=100)"
   ]
  },
  {
   "cell_type": "code",
   "execution_count": 186,
   "metadata": {},
   "outputs": [
    {
     "data": {
      "text/plain": [
       "RandomForestClassifier(bootstrap=True, class_weight=None, criterion='gini',\n",
       "            max_depth=None, max_features='auto', max_leaf_nodes=None,\n",
       "            min_impurity_decrease=0.0, min_impurity_split=None,\n",
       "            min_samples_leaf=1, min_samples_split=2,\n",
       "            min_weight_fraction_leaf=0.0, n_estimators=100, n_jobs=1,\n",
       "            oob_score=False, random_state=None, verbose=0,\n",
       "            warm_start=False)"
      ]
     },
     "execution_count": 186,
     "metadata": {},
     "output_type": "execute_result"
    }
   ],
   "source": [
    "# Train the model \n",
    "random_forest_classifier.fit(X_train,y_train)"
   ]
  },
  {
   "cell_type": "code",
   "execution_count": 187,
   "metadata": {},
   "outputs": [],
   "source": [
    "# Run the predictions\n",
    "y_pred_rf = random_forest_classifier.predict(X_test)"
   ]
  },
  {
   "cell_type": "code",
   "execution_count": 188,
   "metadata": {},
   "outputs": [
    {
     "name": "stdout",
     "output_type": "stream",
     "text": [
      "The accuracy of the random forest model is: 0.95\n",
      "[[12  1]\n",
      " [ 0  7]]\n",
      "             precision    recall  f1-score   support\n",
      "\n",
      "        1.0       1.00      0.92      0.96        13\n",
      "        2.0       0.88      1.00      0.93         7\n",
      "\n",
      "avg / total       0.96      0.95      0.95        20\n",
      "\n"
     ]
    }
   ],
   "source": [
    "# Print the results of the random forest model \n",
    "print(\"The accuracy of the random forest model is:\",metrics.accuracy_score(y_test, y_pred_rf))\n",
    "print(confusion_matrix(y_test,y_pred_rf))\n",
    "print(classification_report(y_test,y_pred_rf))"
   ]
  },
  {
   "cell_type": "markdown",
   "metadata": {},
   "source": [
    "I experimented with both the SVM and Random Forest Ensemble classifiers. Of both models, the random forets model performed better with an accuracy of 95% whereas the SVM classifier performed at an accuracy of 90%."
   ]
  }
 ],
 "metadata": {
  "kernelspec": {
   "display_name": "Python 3",
   "language": "python",
   "name": "python3"
  },
  "language_info": {
   "codemirror_mode": {
    "name": "ipython",
    "version": 3
   },
   "file_extension": ".py",
   "mimetype": "text/x-python",
   "name": "python",
   "nbconvert_exporter": "python",
   "pygments_lexer": "ipython3",
   "version": "3.6.5"
  }
 },
 "nbformat": 4,
 "nbformat_minor": 2
}
